{
 "cells": [
  {
   "cell_type": "code",
   "execution_count": 1,
   "metadata": {},
   "outputs": [],
   "source": [
    "import numpy as np # linear algebra\n",
    "import pandas as pd # data processing, CSV file I/O (e.g. pd.read_csv)\n",
    "\n",
    "import os"
   ]
  },
  {
   "cell_type": "code",
   "execution_count": 3,
   "metadata": {},
   "outputs": [],
   "source": [
    "import gdown\n",
    "from zipfile import ZipFile\n",
    "from pathlib import Path\n",
    "\n",
    "dataset_url = f\"https://drive.google.com/uc?id=1w4DKQ_MMrd0tj31_cJ3YBp1hSMMRMjty\"\n",
    "\n",
    "datafile = f\"./data.zip\"\n",
    "if not os.path.exists(datafile):\n",
    "    gdown.download(url=dataset_url, output=datafile, quiet=False)\n",
    "\n",
    "with ZipFile(Path(datafile), \"r\") as zip_ref:\n",
    "    zip_ref.extractall()"
   ]
  },
  {
   "cell_type": "code",
   "execution_count": 4,
   "metadata": {},
   "outputs": [
    {
     "name": "stdout",
     "output_type": "stream",
     "text": [
      "                                        product_name  \\\n",
      "0  ⛅ Kem Chống Nắng Dạng Xịt Skin Aqua Sara-Fit U...   \n",
      "1  Kem Chống Nắng SPF50 +, Chống Tia UV, Chống Nắ...   \n",
      "2            Kem chống nắng Klavuu tone up sunscreen   \n",
      "3  Serum Trắng Da Chống Nắng Vaseline Healthy Whi...   \n",
      "4  [HCM]Sample Vichy Kem Chống Nắng Ngăn Sạm Da G...   \n",
      "\n",
      "                                       url_thumbnail  \\\n",
      "0  https://cf.shopee.vn/file/3f87066958412a80a85d...   \n",
      "1  https://p16-oec-sg.ibyteimg.com/tos-alisg-i-ap...   \n",
      "2  https://cf.shopee.vn/file/c448f3ccd07b2c13b234...   \n",
      "3  https://cf.shopee.vn/file/41314c15a3a3760a3775...   \n",
      "4  https://vn-live-01.slatic.net/p/676a89a3b9b8ad...   \n",
      "\n",
      "                                                 url original_brand  \\\n",
      "0     https://shopee.vn/product/192924831/4117849404      skin aqua   \n",
      "1  https://www.tiktok.com/view/product/1729674575...            NaN   \n",
      "2      https://shopee.vn/product/66709839/8954981233            NaN   \n",
      "3      https://shopee.vn/product/10464922/3967927067       vaseline   \n",
      "4  https://www.lazada.vn/products/sp-i953224372.html          Vichy   \n",
      "\n",
      "   is_valid_report cleaned_brand   product_group  sale_in_range  \n",
      "0             True       sunplay  kem chống nắng              1  \n",
      "1            False           NaN  kem chống nắng              3  \n",
      "2             True        klavuu  kem chống nắng              7  \n",
      "3            False           NaN  kem chống nắng              6  \n",
      "4             True         vichy  kem chống nắng              3  \n"
     ]
    }
   ],
   "source": [
    "dataframes = []\n",
    "count=3\n",
    "\n",
    "for dirname, _, filenames in os.walk('./'):\n",
    "    for filename in filenames:\n",
    "        file = os.path.join(dirname, filename)\n",
    "        if file.endswith(\".csv\"):\n",
    "            df = pd.read_csv(file)\n",
    "            dataframes.append(df.head(20))\n",
    "            count-=1\n",
    "            if count == 0 :\n",
    "                break\n",
    "\n",
    "# Concatenate all DataFrames\n",
    "combined_df = pd.concat(dataframes, ignore_index=True)\n",
    "\n",
    "combined_df = combined_df.drop(columns=['report_name',\"product_base_id\",\"report_id\"])\n",
    "\n",
    "# Show the combined DataFrame\n",
    "print(combined_df.head())"
   ]
  },
  {
   "cell_type": "code",
   "execution_count": 5,
   "metadata": {},
   "outputs": [
    {
     "name": "stdout",
     "output_type": "stream",
     "text": [
      "downloading: https://cf.shopee.vn/file/3f87066958412a80a85df1fea4b20a29\n",
      "downloading: https://p16-oec-sg.ibyteimg.com/tos-alisg-i-aphluv4xwc-sg/6b09f77a4f804d93b77d9ea3cced4478~tplv-aphluv4xwc-resize-webp:300:300.webp?from=3170420761\n",
      "downloading: https://cf.shopee.vn/file/c448f3ccd07b2c13b23403a4d90b995b\n",
      "downloading: https://cf.shopee.vn/file/41314c15a3a3760a3775ada73c55b87e\n",
      "downloading: https://vn-live-01.slatic.net/p/676a89a3b9b8adf89680086a90f52361.png\n",
      "downloading: https://cf.shopee.vn/file/vn-11134207-7r98o-llk4jj5jb4js73\n",
      "downloading: https://cf.shopee.vn/file/vn-11134207-7qukw-lik2f2i95j4c0b\n",
      "downloading: https://cf.shopee.vn/file/e519d4f48e952ec04266fb03bf95a8ec\n",
      "downloading: https://cf.shopee.vn/file/vn-11134201-7qukw-lephtlehcbzm68\n",
      "downloading: https://cf.shopee.vn/file/16f6e1014be646a25a4476e67d983504\n",
      "downloading: https://cf.shopee.vn/file/4203ddbb02bf8ac289475d428c5806da\n",
      "downloading: https://filebroker-cdn.lazada.vn/kf/Scf006b3b20294d1d8a6f732e10eaa211Z.jpg\n",
      "downloading: https://p16-oec-va.ibyteimg.com/tos-maliva-i-o3syd03w52-us/1f538dad2b8345a4bc8fab17a99f72e6~tplv-o3syd03w52-resize-webp:800:800.webp?\n",
      "downloading: https://cf.shopee.vn/file/vn-11134207-7r98o-logmtaymlsz740\n",
      "downloading: https://vn-live-01.slatic.net/p/838c8dbd5fd3c8a30c163582bdff34f9.jpg\n",
      "downloading: https://p16-oec-va.ibyteimg.com/tos-maliva-i-o3syd03w52-us/2f68d20c7c3d4e138726d9ffc3dae3f2~tplv-o3syd03w52-resize-webp:800:800.webp?\n",
      "downloading: https://cf.shopee.vn/file/vn-11134207-7qukw-lh0eliizwf8y47\n",
      "downloading: https://p16-oec-va.ibyteimg.com/tos-maliva-i-o3syd03w52-us/b53a9e0c9a9c4423b569cad14c1a15dd~tplv-o3syd03w52-resize-jpeg:800:800.jpeg?from=1826719393\n",
      "downloading: https://vn-live-01.slatic.net/p/b46e0964f45277e73ce4ccf9e3fb82c4.jpg\n",
      "downloading: https://p16-oec-va.ibyteimg.com/tos-maliva-i-o3syd03w52-us/a9d8bc4cbaab4dbf96cdcc4479913a9c~tplv-o3syd03w52-resize-jpeg:800:800.jpeg?from=1826719393\n",
      "downloading: https://vn-live-01.slatic.net/p/f1877eae36ee936f4ed41ab2a02d206a.jpg\n",
      "downloading: https://p16-oec-va.ibyteimg.com/tos-maliva-i-o3syd03w52-us/65df35bb59d04af7aad8bdb1324d9077~tplv-o3syd03w52-resize-jpeg:800:800.jpeg?from=1826719393\n",
      "downloading: https://p16-oec-va.ibyteimg.com/tos-maliva-i-o3syd03w52-us/d40ce096e47a4b8f9467f826434d0a30~tplv-o3syd03w52-resize-webp:800:800.webp?\n",
      "downloading: https://p16-oec-va.ibyteimg.com/tos-maliva-i-o3syd03w52-us/036f7d175d004ffb9f8e1347b8b7b1a5~tplv-o3syd03w52-resize-webp:500:500.webp?from=1323722398\n",
      "downloading: https://p16-oec-va.ibyteimg.com/tos-maliva-i-o3syd03w52-us/30802e73bb8c4331965621d2802e7e49~tplv-o3syd03w52-resize-jpeg:800:800.jpeg?from=1826719393\n",
      "downloading: https://cf.shopee.vn/file/a22f381dcc541a8be1ec5d848a5d2184\n",
      "downloading: https://p16-oec-va.ibyteimg.com/tos-maliva-i-o3syd03w52-us/8c8d9d13dff842ec805634b1ce45b578~tplv-o3syd03w52-resize-webp:800:800.webp?\n",
      "downloading: https://cf.shopee.vn/file/vn-11134207-7r98o-llskxpa131en0f\n",
      "downloading: https://p16-oec-va.ibyteimg.com/tos-maliva-i-o3syd03w52-us/e2327ead32ca4d9087a406cce8515aff~tplv-o3syd03w52-crop-webp:500:500.webp?from=2481794462\n",
      "downloading: https://cf.shopee.vn/file/sg-11134201-22100-smyx2ahda1iv8d\n",
      "downloading: https://p16-oec-va.ibyteimg.com/tos-maliva-i-o3syd03w52-us/14b0304becad4b23aee6fdf0f84c10d3~tplv-o3syd03w52-resize-webp:300:300.webp?from=3170420761\n",
      "downloading: https://vn-live-01.slatic.net/p/e2064469340464a541ad166443ea2c4c.jpg\n",
      "downloading: https://cf.shopee.vn/file/029d0674a5a8d5086454ad37d7ea6334\n",
      "downloading: https://cf.shopee.vn/file/sg-11134201-23020-k4bdlusmn1mve5\n",
      "downloading: https://cf.shopee.vn/file/e363a5caf66fbfdd12bb6abc3f0c4a9e\n",
      "downloading: https://cf.shopee.vn/file/fd2c7cc76c5bd7d0d9a3917386e97f0f\n",
      "downloading: https://p16-oec-va.ibyteimg.com/tos-maliva-i-o3syd03w52-us/544b5779a4df408ebf5bc08afa15d94d~tplv-o3syd03w52-resize-webp:300:300.webp?from=3170420761\n",
      "downloading: https://cf.shopee.vn/file/vn-11134207-7qukw-lgvsfnc8v1f77b\n",
      "downloading: https://salt.tikicdn.com/cache/280x280/ts/product/ae/a9/87/82eb164e0a78089aca3e046c8ea21c47.jpg\n",
      "downloading: https://cf.shopee.vn/file/d282f3380bb3d513b7c6cd0356522fad\n",
      "downloading: https://cf.shopee.vn/file/vn-11134201-23030-zhwpklfrsiov8a\n",
      "downloading: https://cf.shopee.vn/file/vn-11134207-7qukw-lh4i36xfd2cy51\n",
      "downloading: https://salt.tikicdn.com/cache/280x280/ts/product/89/91/80/9ed6ea2b8511fcc3cd79502ae903da53.jpg\n",
      "downloading: https://p16-oec-va.ibyteimg.com/tos-maliva-i-o3syd03w52-us/d7b3717571bd4ae6bccd183ba9f33ba1~tplv-o3syd03w52-crop-webp:400:400.webp?from=1476391136\n",
      "downloading: https://my-live-02.slatic.net/p/554c665ff844ab638fc286b745cba130.jpg\n",
      "downloading: https://cf.shopee.vn/file/da9c59d74be73809c7253ee560b9a64b\n",
      "downloading: https://cf.shopee.vn/file/vn-11134207-7r98o-lmmmx8jgiajj9e\n",
      "downloading: https://cf.shopee.vn/file/746b1e7408faf01d05a09253a58ae0e2\n",
      "downloading: https://cf.shopee.vn/file/sg-11134201-7rbk0-lkz9l0vnbugg1b\n",
      "downloading: https://cf.shopee.vn/file/vn-11134207-7r98o-luix0dlzqas2ef\n",
      "downloading: https://cf.shopee.vn/file/d25afe24b1717b587fc26189b1dc6229\n",
      "downloading: https://p16-oec-va.ibyteimg.com/tos-maliva-i-o3syd03w52-us/e6f5860acada404c90dbd0465587eb62~tplv-o3syd03w52-resize-webp:500:500.webp?from=1307234347\n",
      "downloading: https://cf.shopee.vn/file/d70dcadf30b7b53ac1c1fd9195317dbb\n",
      "downloading: https://cf.shopee.vn/file/vn-11134207-7qukw-lgba4dayvgx6cf\n",
      "downloading: https://p16-oec-va.ibyteimg.com/tos-maliva-i-o3syd03w52-us/05245698035d45cb861b25bc4898b18d~tplv-o3syd03w52-resize-jpeg:800:800.jpeg?from=1826719393\n",
      "downloading: https://cf.shopee.vn/file/adfa47504874b1a4bf8d1313198685d9\n",
      "downloading: https://cf.shopee.vn/file/cd5dd055c6fb56757c4ddfb8cfb67d79\n",
      "downloading: https://p16-oec-va.ibyteimg.com/tos-maliva-i-o3syd03w52-us/8863b2d80b5444dd96880392360352ef~tplv-o3syd03w52-resize-jpeg:800:800.jpeg?from=1826719393\n",
      "downloading: https://vn-live-01.slatic.net/p/8b18ac42d4b95d659e183dae828cea18.jpg\n",
      "downloading: https://p16-oec-va.ibyteimg.com/tos-maliva-i-o3syd03w52-us/c6f751fe4da54081b2b8aa1092e8a881~tplv-o3syd03w52-crop-webp:500:500.webp?from=2481794462\n",
      "                                        product_name  \\\n",
      "0  ⛅ Kem Chống Nắng Dạng Xịt Skin Aqua Sara-Fit U...   \n",
      "1  Kem Chống Nắng SPF50 +, Chống Tia UV, Chống Nắ...   \n",
      "2            Kem chống nắng Klavuu tone up sunscreen   \n",
      "3  Serum Trắng Da Chống Nắng Vaseline Healthy Whi...   \n",
      "4  [HCM]Sample Vichy Kem Chống Nắng Ngăn Sạm Da G...   \n",
      "\n",
      "                                                 url original_brand  \\\n",
      "0     https://shopee.vn/product/192924831/4117849404      skin aqua   \n",
      "1  https://www.tiktok.com/view/product/1729674575...            NaN   \n",
      "2      https://shopee.vn/product/66709839/8954981233            NaN   \n",
      "3      https://shopee.vn/product/10464922/3967927067       vaseline   \n",
      "4  https://www.lazada.vn/products/sp-i953224372.html          Vichy   \n",
      "\n",
      "   is_valid_report cleaned_brand   product_group  sale_in_range  \\\n",
      "0             True       sunplay  kem chống nắng              1   \n",
      "1            False           NaN  kem chống nắng              3   \n",
      "2             True        klavuu  kem chống nắng              7   \n",
      "3            False           NaN  kem chống nắng              6   \n",
      "4             True         vichy  kem chống nắng              3   \n",
      "\n",
      "                                         image_paths  \n",
      "0  downloaded_images/3f87066958412a80a85df1fea4b2...  \n",
      "1  downloaded_images/6b09f77a4f804d93b77d9ea3cced...  \n",
      "2  downloaded_images/c448f3ccd07b2c13b23403a4d90b...  \n",
      "3  downloaded_images/41314c15a3a3760a3775ada73c55...  \n",
      "4  downloaded_images/676a89a3b9b8adf89680086a90f5...  \n"
     ]
    }
   ],
   "source": [
    "import requests\n",
    "import os\n",
    "\n",
    "# Create a folder to store downloaded images\n",
    "image_folder = 'downloaded_images'\n",
    "os.makedirs(image_folder, exist_ok=True)\n",
    "\n",
    "# Function to download an image and return the local file path\n",
    "def download_image(url, folder):\n",
    "    try:\n",
    "        # Extract the image file name from the URL\n",
    "        image_name = os.path.basename(url)\n",
    "        \n",
    "        # Set the local file path\n",
    "        local_path = os.path.join(folder, image_name)\n",
    "        \n",
    "        # Send a GET request to download the image\n",
    "        response = requests.get(url, stream=True)\n",
    "        \n",
    "        print(f'downloading: {url}')\n",
    "        if response.status_code == 200:\n",
    "            # Write the image content to the local file\n",
    "            with open(local_path, 'wb') as f:\n",
    "                f.write(response.content)\n",
    "            return local_path\n",
    "        else:\n",
    "            return None\n",
    "    except Exception as e:\n",
    "        print(f\"Error downloading {url}: {e}\")\n",
    "        return None\n",
    "\n",
    "\n",
    "train_df = combined_df\n",
    "# Iterate over the DataFrame and replace the image URLs with local paths\n",
    "train_df['image_paths'] = combined_df['url_thumbnail'].apply(lambda url: download_image(url, image_folder))\n",
    "\n",
    "# Drop the original 'image_urls' column if desired\n",
    "train_df = combined_df.drop(columns=['url_thumbnail'])\n",
    "\n",
    "# Show the DataFrame with the local image paths\n",
    "print(train_df.head())"
   ]
  },
  {
   "cell_type": "code",
   "execution_count": 6,
   "metadata": {},
   "outputs": [],
   "source": [
    "from sklearn.model_selection import train_test_split\n",
    "\n",
    "train_df,test_df = train_test_split(train_df)"
   ]
  },
  {
   "cell_type": "code",
   "execution_count": 8,
   "metadata": {},
   "outputs": [
    {
     "name": "stderr",
     "output_type": "stream",
     "text": [
      "No path specified. Models will be saved in: \"AutogluonModels/ag-20240917_090528\"\n",
      "=================== System Info ===================\n",
      "AutoGluon Version:  1.1.0\n",
      "Python Version:     3.10.14\n",
      "Operating System:   Linux\n",
      "Platform Machine:   x86_64\n",
      "Platform Version:   #14~22.04.1-Ubuntu SMP PREEMPT_DYNAMIC Mon Nov 20 18:15:30 UTC 2\n",
      "CPU Count:          6\n",
      "Pytorch Version:    2.1.2+cu121\n",
      "CUDA Version:       12.1\n",
      "Memory Avail:       16.48 GB / 31.00 GB (53.2%)\n",
      "Disk Space Avail:   73.76 GB / 1832.70 GB (4.0%)\n",
      "===================================================\n",
      "AutoGluon infers your prediction problem is: 'multiclass' (because dtype of label-column == object).\n",
      "\t3 unique label values:  ['máy hút bụi', 'tẩy da chết', 'kem chống nắng']\n",
      "\tIf 'multiclass' is not the correct problem_type, please manually specify the problem_type parameter during predictor init (You may specify problem_type as one of: ['binary', 'multiclass', 'regression'])\n",
      "\n",
      "AutoMM starts to create your model. ✨✨✨\n",
      "\n",
      "To track the learning progress, you can open a terminal and launch Tensorboard:\n",
      "    ```shell\n",
      "    # Assume you have installed tensorboard\n",
      "    tensorboard --logdir /home/minhvv/ISE_AutoML/ml_service/testing/AutogluonModels/ag-20240917_090528\n",
      "    ```\n",
      "\n",
      "Seed set to 0\n",
      "/home/minhvv/miniconda3/envs/automl/lib/python3.10/site-packages/huggingface_hub/file_download.py:1150: FutureWarning: `resume_download` is deprecated and will be removed in version 1.0.0. Downloads always resume when possible. If you want to force a new download, use `force_download=True`.\n",
      "  warnings.warn(\n",
      "/home/minhvv/miniconda3/envs/automl/lib/python3.10/site-packages/torch/_utils.py:831: UserWarning: TypedStorage is deprecated. It will be removed in the future and UntypedStorage will be the only storage class. This should only matter to you if you are using storages directly.  To access UntypedStorage directly, use tensor.untyped_storage() instead of tensor.storage()\n",
      "  return self.fget.__get__(instance, owner)()\n",
      "GPU Count: 1\n",
      "GPU Count to be Used: 1\n",
      "GPU 0 Name: NVIDIA RTX A4000\n",
      "GPU 0 Memory: 1.03GB/15.99GB (Used/Total)\n",
      "\n",
      "Using 16bit Automatic Mixed Precision (AMP)\n",
      "GPU available: True (cuda), used: True\n",
      "TPU available: False, using: 0 TPU cores\n",
      "IPU available: False, using: 0 IPUs\n",
      "HPU available: False, using: 0 HPUs\n",
      "You are using a CUDA device ('NVIDIA RTX A4000') that has Tensor Cores. To properly utilize them, you should set `torch.set_float32_matmul_precision('medium' | 'high')` which will trade-off precision for performance. For more details, read https://pytorch.org/docs/stable/generated/torch.set_float32_matmul_precision.html#torch.set_float32_matmul_precision\n",
      "LOCAL_RANK: 0 - CUDA_VISIBLE_DEVICES: [0]\n",
      "\n",
      "  | Name              | Type                | Params\n",
      "----------------------------------------------------------\n",
      "0 | model             | MultimodalFusionMLP | 207 M \n",
      "1 | validation_metric | MulticlassAccuracy  | 0     \n",
      "2 | loss_func         | CrossEntropyLoss    | 0     \n",
      "----------------------------------------------------------\n",
      "207 M     Trainable params\n",
      "0         Non-trainable params\n",
      "207 M     Total params\n",
      "828.128   Total estimated model params size (MB)\n"
     ]
    },
    {
     "name": "stdout",
     "output_type": "stream",
     "text": [
      "                                                                           \r"
     ]
    },
    {
     "name": "stderr",
     "output_type": "stream",
     "text": [
      "/home/minhvv/miniconda3/envs/automl/lib/python3.10/site-packages/lightning/pytorch/loops/fit_loop.py:293: The number of training batches (5) is smaller than the logging interval Trainer(log_every_n_steps=10). Set a lower value for log_every_n_steps if you want to see logs for the training epoch.\n"
     ]
    },
    {
     "name": "stdout",
     "output_type": "stream",
     "text": [
      "Epoch 1:  40%|████      | 2/5 [00:03<00:05,  0.53it/s]"
     ]
    },
    {
     "name": "stderr",
     "output_type": "stream",
     "text": [
      "Epoch 1, global step 1: 'val_accuracy' reached 0.44444 (best 0.44444), saving model to '/home/minhvv/ISE_AutoML/ml_service/testing/AutogluonModels/ag-20240917_090528/epoch=1-step=1.ckpt' as top 3\n"
     ]
    },
    {
     "name": "stdout",
     "output_type": "stream",
     "text": [
      "Epoch 2:  40%|████      | 2/5 [00:03<00:04,  0.63it/s]"
     ]
    },
    {
     "name": "stderr",
     "output_type": "stream",
     "text": [
      "Epoch 2, global step 2: 'val_accuracy' reached 0.66667 (best 0.66667), saving model to '/home/minhvv/ISE_AutoML/ml_service/testing/AutogluonModels/ag-20240917_090528/epoch=2-step=2.ckpt' as top 3\n",
      "Time limit reached. Elapsed time is 0:02:28. Signaling Trainer to stop.\n"
     ]
    },
    {
     "name": "stdout",
     "output_type": "stream",
     "text": [
      "Epoch 2:  60%|██████    | 3/5 [01:14<00:49,  0.04it/s]\n"
     ]
    },
    {
     "name": "stderr",
     "output_type": "stream",
     "text": [
      "Start to fuse 2 checkpoints via the greedy soup algorithm.\n"
     ]
    },
    {
     "name": "stdout",
     "output_type": "stream",
     "text": [
      "Predicting DataLoader 0: 100%|██████████| 1/1 [00:00<00:00,  2.44it/s]\n",
      "Predicting DataLoader 0: 100%|██████████| 1/1 [00:00<00:00,  3.77it/s]\n"
     ]
    },
    {
     "name": "stderr",
     "output_type": "stream",
     "text": [
      "AutoMM has created your model. 🎉🎉🎉\n",
      "\n",
      "To load the model, use the code below:\n",
      "    ```python\n",
      "    from autogluon.multimodal import MultiModalPredictor\n",
      "    predictor = MultiModalPredictor.load(\"/home/minhvv/ISE_AutoML/ml_service/testing/AutogluonModels/ag-20240917_090528\")\n",
      "    ```\n",
      "\n",
      "If you are not satisfied with the model, try to increase the training time, \n",
      "adjust the hyperparameters (https://auto.gluon.ai/stable/tutorials/multimodal/advanced_topics/customization.html),\n",
      "or post issues on GitHub (https://github.com/autogluon/autogluon/issues).\n",
      "\n",
      "\n"
     ]
    }
   ],
   "source": [
    "from autogluon.multimodal import MultiModalPredictor\n",
    "\n",
    "predictor = MultiModalPredictor(label=\"product_group\").fit(\n",
    "    train_data=train_df,\n",
    "    time_limit=120\n",
    ")"
   ]
  },
  {
   "cell_type": "code",
   "execution_count": 13,
   "metadata": {},
   "outputs": [
    {
     "name": "stdout",
     "output_type": "stream",
     "text": [
      "Predicting DataLoader 0: 100%|██████████| 1/1 [00:00<00:00,  4.62it/s]\n"
     ]
    },
    {
     "data": {
      "text/plain": [
       "{'accuracy': 0.7333333333333333,\n",
       " 'log_loss': 18.420680743952364,\n",
       " 'f1_macro': 0.5833333333333334}"
      ]
     },
     "execution_count": 13,
     "metadata": {},
     "output_type": "execute_result"
    }
   ],
   "source": [
    "# scores = predictor.evaluate(test_df, metrics=[\n",
    "#     \"accuracy\",\n",
    "#     \"acc\",\n",
    "#     \"balanced_accuracy\",\n",
    "#     \"mcc\",\n",
    "#     \"roc_auc_ovo_macro\",\n",
    "#     \"log_loss\",\n",
    "#     \"nll\",\n",
    "#     \"pac\",\n",
    "#     \"pac_score\",\n",
    "#     \"quadratic_kappa\",\n",
    "#     \"precision_macro\",\n",
    "#     \"precision_micro\",\n",
    "#     \"precision_weighted\",\n",
    "#     \"recall_macro\",\n",
    "#     \"recall_micro\",\n",
    "#     \"recall_weighted\",\n",
    "#     \"f1_macro\",\n",
    "#     \"f1_micro\",\n",
    "#     \"f1_weighted\",\n",
    "#   ])\n",
    "scores = predictor.evaluate(test_df, metrics=[\n",
    "    \"accuracy\",\n",
    "    \"log_loss\",\n",
    "    \"f1_macro\",\n",
    "  ])\n",
    "scores"
   ]
  }
 ],
 "metadata": {
  "kernelspec": {
   "display_name": "automl",
   "language": "python",
   "name": "python3"
  },
  "language_info": {
   "codemirror_mode": {
    "name": "ipython",
    "version": 3
   },
   "file_extension": ".py",
   "mimetype": "text/x-python",
   "name": "python",
   "nbconvert_exporter": "python",
   "pygments_lexer": "ipython3",
   "version": "3.10.14"
  }
 },
 "nbformat": 4,
 "nbformat_minor": 2
}
